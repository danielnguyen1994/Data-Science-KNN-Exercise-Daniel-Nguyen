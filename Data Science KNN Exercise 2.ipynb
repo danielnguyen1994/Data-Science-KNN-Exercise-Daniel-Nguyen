{
 "cells": [
  {
   "cell_type": "raw",
   "metadata": {},
   "source": [
    "In the logistic regression example, I gave you a new iris data:\n",
    "4.8,2.5,5.3,2.4\n",
    "Please classify this flower using KNN."
   ]
  },
  {
   "cell_type": "code",
   "execution_count": 1,
   "metadata": {},
   "outputs": [],
   "source": [
    "import numpy as np\n",
    "from sklearn import datasets\n",
    "from sklearn import preprocessing\n",
    "from collections import Counter\n",
    "iris = datasets.load_iris()\n",
    "iris_data = iris.data\n",
    "iris_labels = iris.target"
   ]
  },
  {
   "cell_type": "code",
   "execution_count": 2,
   "metadata": {},
   "outputs": [],
   "source": [
    "#function to get the euclidean distance from test_data to iris_data\n",
    "def euclid_distance(x,y):       \n",
    "    instance1 = np.array(x)\n",
    "    instance2 = np.array(y)\n",
    "    return np.linalg.norm(instance1 - instance2)"
   ]
  },
  {
   "cell_type": "code",
   "execution_count": 3,
   "metadata": {},
   "outputs": [
    {
     "name": "stdout",
     "output_type": "stream",
     "text": [
      "[(1.0246950765959593, 2), (1.0295630140987002, 2), (1.0630145812734648, 2), (1.067707825203131, 2), (1.1532562594670797, 2), (1.1532562594670797, 2), (1.363818169698586, 2), (1.4352700094407325, 1), (1.469693845669907, 1), (1.5165750888103102, 2)]\n"
     ]
    }
   ],
   "source": [
    "#function to sort by the nearest k neighbors \n",
    "def get_neighbors(test_data, k ):\n",
    "    distances = []    \n",
    "    for i in range(len(iris_data)):\n",
    "        distance_to_point = euclid_distance(test_data, iris_data[i])\n",
    "        distances.append((distance_to_point, iris_labels[i]))\n",
    "        \n",
    "    distances.sort(key=lambda x: x[0])\n",
    "    neighbors = distances[:k]\n",
    "    return neighbors\n",
    "#test\n",
    "print(get_neighbors([4.8,2.5,5.3,2.4], 10))"
   ]
  },
  {
   "cell_type": "code",
   "execution_count": 4,
   "metadata": {},
   "outputs": [],
   "source": [
    "#function to predict the class of the flower\n",
    "def predict(test_data, k):\n",
    "    counter = Counter()\n",
    "    neighbors = get_neighbors(test_data, k)\n",
    "    for x in neighbors:\n",
    "        counter[x[1]] += 1           \n",
    "    return counter.most_common(1)[0][0] "
   ]
  },
  {
   "cell_type": "code",
   "execution_count": 5,
   "metadata": {},
   "outputs": [
    {
     "name": "stdout",
     "output_type": "stream",
     "text": [
      "2\n",
      "2\n"
     ]
    }
   ],
   "source": [
    "#Predict the class of the flower with k = 10 and k = 20 \n",
    "print(predict([4.8,2.5,5.3,2.4], 10))\n",
    "print(predict([4.8,2.5,5.3,2.4], 20))"
   ]
  }
 ],
 "metadata": {
  "kernelspec": {
   "display_name": "Python 3",
   "language": "python",
   "name": "python3"
  },
  "language_info": {
   "codemirror_mode": {
    "name": "ipython",
    "version": 3
   },
   "file_extension": ".py",
   "mimetype": "text/x-python",
   "name": "python",
   "nbconvert_exporter": "python",
   "pygments_lexer": "ipython3",
   "version": "3.8.5"
  }
 },
 "nbformat": 4,
 "nbformat_minor": 4
}
