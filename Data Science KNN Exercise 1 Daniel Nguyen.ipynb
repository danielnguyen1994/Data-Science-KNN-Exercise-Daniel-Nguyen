{
 "cells": [
  {
   "cell_type": "raw",
   "metadata": {},
   "source": [
    "Implement KNN by hand for just 2 dimensions with normalization.\n",
    "\n",
    "This is easy because:\n",
    "\n",
    "funct: You normalize your data in another table\n",
    "funct: You code a simple euclid distance function\n",
    "funct: You take a point and calculate the distance to all points\n",
    "funct: You take the list from above and sort it\n",
    "funct: You aggregate by target variable\n",
    "funct: you take the max to determine the targe class"
   ]
  },
  {
   "cell_type": "code",
   "execution_count": 1,
   "metadata": {},
   "outputs": [],
   "source": [
    "from math import sqrt\n",
    "from sklearn import preprocessing\n",
    "import numpy as np\n",
    "import pandas as pd\n",
    "from collections import Counter\n",
    "\n",
    "test = {'X': [22,34,88,54,65,77,81,103,98,80,120,100,130],\n",
    "        'Y': [90,60,43,90,77,33,11,10,11,15,1,30,34],\n",
    "        'Z': [0,0,0,0,0,0,1,1,1,1,1,1,1]\n",
    "        }\n",
    "\n",
    "data = pd.DataFrame(test, columns = ['X','Y'])\n",
    "data_label = pd.DataFrame(test, columns = ['Z'])"
   ]
  },
  {
   "cell_type": "code",
   "execution_count": 2,
   "metadata": {},
   "outputs": [
    {
     "name": "stdout",
     "output_type": "stream",
     "text": [
      "[[0.19642857 0.80357143]\n",
      " [0.36170213 0.63829787]\n",
      " [0.67175573 0.32824427]\n",
      " [0.375      0.625     ]\n",
      " [0.45774648 0.54225352]\n",
      " [0.7        0.3       ]\n",
      " [0.88043478 0.11956522]\n",
      " [0.91150442 0.08849558]\n",
      " [0.89908257 0.10091743]\n",
      " [0.84210526 0.15789474]\n",
      " [0.99173554 0.00826446]\n",
      " [0.76923077 0.23076923]\n",
      " [0.79268293 0.20731707]]\n"
     ]
    }
   ],
   "source": [
    "#funct: You normalize your data in another table\n",
    "def normalize_dataset(data):\n",
    "    normalized = preprocessing.normalize(data, norm=\"l1\")\n",
    "    return normalized\n",
    "#test            \n",
    "print(normalize_dataset(data))"
   ]
  },
  {
   "cell_type": "code",
   "execution_count": 3,
   "metadata": {},
   "outputs": [
    {
     "name": "stdout",
     "output_type": "stream",
     "text": [
      "2.0\n"
     ]
    }
   ],
   "source": [
    "#funct: You code a simple euclid distance function\n",
    "def euclid_distance(x,y):\n",
    "       \n",
    "    instance1 = np.array(x)\n",
    "    instance2 = np.array(y)\n",
    "    return np.linalg.norm(instance1 - instance2)\n",
    "#test\n",
    "print(euclid_distance([1,2],[1,4]))"
   ]
  },
  {
   "cell_type": "code",
   "execution_count": 4,
   "metadata": {},
   "outputs": [
    {
     "name": "stdout",
     "output_type": "stream",
     "text": [
      "[(1.0607678030905587, (0,)), (0.8278587168410854, (0,)), (0.3935620849656575, (0,)), (0.809139536868306, (0,)), (0.6927645046395439, (0,)), (0.35451235852319596, (0,)), (0.11986372730241066, (1,)), (0.09133963705491752, (1,)), (0.10143095695499076, (1,)), (0.16467985778162253, (1,)), (0.10317816829313237, (1,)), (0.25994711667941106, (1,)), (0.2285518671196883, (1,))]\n"
     ]
    }
   ],
   "source": [
    "#funct: You take a point and calculate the distance to all points\n",
    "\n",
    "\n",
    "def distance_point(point):\n",
    "    distances = []\n",
    "    #normalize point \n",
    "    point = point/np.linalg.norm(point, ord=np.inf, axis=0, keepdims=True)\n",
    "        \n",
    "    for i in range(len(normalize_dataset(data))):\n",
    "        distance_to_point = euclid_distance(point, normalize_dataset(data)[i])        \n",
    "        distances.append((distance_to_point, tuple(data_label.to_records(index=False)[i])))\n",
    "        \n",
    "    return distances\n",
    "#test\n",
    "print(distance_point([90,  10]))"
   ]
  },
  {
   "cell_type": "code",
   "execution_count": 5,
   "metadata": {},
   "outputs": [
    {
     "name": "stdout",
     "output_type": "stream",
     "text": [
      "[(0.09133963705491752, (1,)), (0.10143095695499076, (1,)), (0.10317816829313237, (1,)), (0.11986372730241066, (1,)), (0.16467985778162253, (1,)), (0.2285518671196883, (1,)), (0.25994711667941106, (1,)), (0.35451235852319596, (0,)), (0.3935620849656575, (0,)), (0.6927645046395439, (0,)), (0.809139536868306, (0,)), (0.8278587168410854, (0,)), (1.0607678030905587, (0,))]\n"
     ]
    }
   ],
   "source": [
    "#funct: You take the list from above and sort it\n",
    "def sort_list(list):\n",
    "    \n",
    "    #Sort list by distances value (ascending)\n",
    "    list = sorted(list, key=lambda x: x[0])\n",
    "    return list\n",
    "#test \n",
    "print(sort_list(distance_point([90,  10])))"
   ]
  },
  {
   "cell_type": "code",
   "execution_count": 6,
   "metadata": {},
   "outputs": [
    {
     "name": "stdout",
     "output_type": "stream",
     "text": [
      "Counter({(1,): 3})\n"
     ]
    }
   ],
   "source": [
    "#funct: You aggregate by target variable\n",
    "def aggregate(sorted_list, k):\n",
    "    counter = Counter()\n",
    "    sorted_list = sorted_list[:k]\n",
    "    for x in sorted_list:\n",
    "        counter[x[1]] += 1\n",
    "    return counter\n",
    "#test\n",
    "print(aggregate(sort_list(distance_point([90,  10])), 3))"
   ]
  },
  {
   "cell_type": "code",
   "execution_count": 7,
   "metadata": {},
   "outputs": [
    {
     "name": "stdout",
     "output_type": "stream",
     "text": [
      "(1,)\n",
      "(0,)\n",
      "(0,)\n"
     ]
    }
   ],
   "source": [
    "#funct: you take the max to determine the targe class\n",
    "def max_class(point, k):\n",
    "    winner = aggregate(sort_list(distance_point(point)), k)\n",
    "    winner = winner.most_common(1)[0][0]\n",
    "    return(winner)\n",
    "\n",
    "#test\n",
    "print(max_class([90,  10], 4))\n",
    "print(max_class([10, 79], 4))\n",
    "print(max_class([50, 50], 4))\n",
    "\n"
   ]
  }
 ],
 "metadata": {
  "kernelspec": {
   "display_name": "Python 3",
   "language": "python",
   "name": "python3"
  },
  "language_info": {
   "codemirror_mode": {
    "name": "ipython",
    "version": 3
   },
   "file_extension": ".py",
   "mimetype": "text/x-python",
   "name": "python",
   "nbconvert_exporter": "python",
   "pygments_lexer": "ipython3",
   "version": "3.8.5"
  }
 },
 "nbformat": 4,
 "nbformat_minor": 4
}
